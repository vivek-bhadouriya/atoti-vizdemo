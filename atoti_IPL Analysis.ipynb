{
 "cells": [
  {
   "cell_type": "markdown",
   "metadata": {},
   "source": [
    "atoti \n",
    "\n",
    "atoti is a free Python BI analytics platform\n",
    "for Quants, Data Analysts, Data Scientists & Business Users to collaborate better, analyze faster and translate their data into business KPIs"
   ]
  },
  {
   "cell_type": "code",
   "execution_count": null,
   "metadata": {},
   "outputs": [],
   "source": [
    "import pandas as pd\n",
    "from pandas.io.json import json_normalize\n",
    "import datetime\n",
    "import csv\n",
    "\n",
    "# pip install atoti[jupyterlab]\n",
    "import atoti as tt"
   ]
  },
  {
   "cell_type": "code",
   "execution_count": null,
   "metadata": {},
   "outputs": [],
   "source": [
    "# create atoti session\n",
    "session = tt.create_session()\n",
    "#open a sesion for browser\n",
    "session.url\n"
   ]
  },
  {
   "cell_type": "code",
   "execution_count": null,
   "metadata": {},
   "outputs": [],
   "source": [
    "# Read the csv file, it can also read from parquet data file (read_parquet)\n",
    "match_df=session.read_csv(\"./IPL Data/matches.csv\",keys=[\"id\",\"season\",\"city\",\"date\"])\n",
    "match_df.head()"
   ]
  },
  {
   "cell_type": "code",
   "execution_count": null,
   "metadata": {},
   "outputs": [],
   "source": [
    "#Create cube and define Dimension and Measures\n",
    "cube=session.create_cube(match_df)\n",
    "h,l,m=cube.hierarchies,cube.levels,cube.measures\n",
    "cube"
   ]
  },
  {
   "cell_type": "code",
   "execution_count": null,
   "metadata": {
    "atoti": {
     "widget": {
      "filters": [
       "TopCount(Filter([Matches].[season].Levels(1).Members, NOT IsEmpty([Measures].[contributors.COUNT])), 5, [Measures].[contributors.COUNT])"
      ],
      "mapping": {
       "horizontalSubplots": [],
       "stackBy": [
        "ALL_MEASURES"
       ],
       "values": [
        "[Measures].[contributors.COUNT]"
       ],
       "verticalSubplots": [],
       "yAxis": []
      },
      "query": {
       "mdx": "SELECT NON EMPTY {[Measures].[contributors.COUNT]} ON COLUMNS FROM [Matches]",
       "updateMode": "once"
      },
      "serverKey": "default",
      "widgetKey": "plotly-stacked-bar-chart"
     }
    },
    "tags": []
   },
   "outputs": [],
   "source": [
    "# Visualize data in Jupyter notebook\n",
    "session.visualize()"
   ]
  },
  {
   "cell_type": "code",
   "execution_count": null,
   "metadata": {},
   "outputs": [],
   "source": [
    "# We can also add new measure in to the cube\n",
    "m[\"Win by Max Runs\"]=tt.agg.max(match_df[\"win_by_runs\"])"
   ]
  },
  {
   "cell_type": "code",
   "execution_count": null,
   "metadata": {},
   "outputs": [],
   "source": [
    "cube.query(m[\"Win by Max Runs\"],include_totals=True,levels=l[\"winner\"])"
   ]
  },
  {
   "cell_type": "code",
   "execution_count": null,
   "metadata": {},
   "outputs": [],
   "source": [
    "# add another measure for analysis\n",
    "m[\"Win by Max Wickets\"]=tt.agg.max(match_df[\"win_by_wickets\"])\n",
    "cube.query(m[\"Win by Max Wickets\"],include_totals=True,levels=l[\"winner\"])"
   ]
  },
  {
   "cell_type": "code",
   "execution_count": null,
   "metadata": {},
   "outputs": [],
   "source": [
    "m[\"Win by Min Runs\"]=tt.agg.min(match_df[\"win_by_runs\"])\n",
    "cube.query(m[\"Win by Min Runs\"],include_totals=True,levels=l[\"winner\"])\n"
   ]
  },
  {
   "cell_type": "code",
   "execution_count": null,
   "metadata": {},
   "outputs": [],
   "source": [
    "# We can also delete/hide unwanted measure from the cube\n",
    "m[\"Win by Min Runs\"].visible=False # to hide the measure\n",
    "del m[\"Win by Min Runs\"] # to delete the measure"
   ]
  },
  {
   "cell_type": "code",
   "execution_count": null,
   "metadata": {
    "atoti": {
     "widget": {
      "mapping": {
       "columns": [
        "ALL_MEASURES"
       ],
       "measures": [
        "[Measures].[contributors.COUNT]"
       ],
       "rows": [
        "[Matches].[winner].[winner]"
       ]
      },
      "query": {
       "mdx": "SELECT NON EMPTY Hierarchize(Descendants({[Matches].[winner].[AllMember]}, 1, SELF_AND_BEFORE)) ON ROWS, NON EMPTY {[Measures].[contributors.COUNT]} ON COLUMNS FROM [Matches]",
       "updateMode": "once"
      },
      "serverKey": "default",
      "switchedTo": "plotly-stacked-bar-chart",
      "widgetKey": "pivot-table"
     }
    },
    "tags": []
   },
   "outputs": [],
   "source": [
    "# open a viz session, select different viz from drop down\n",
    "session.visualize(\"Team Analysis\")\n",
    "# you can also publish the viz to share with your peers, right click on the viz and click on publish"
   ]
  },
  {
   "cell_type": "code",
   "execution_count": null,
   "metadata": {
    "atoti": {
     "widget": {
      "mapping": {
       "columns": [
        "ALL_MEASURES"
       ],
       "measures": [
        "[Measures].[Win by Max Runs]"
       ],
       "rows": [
        "[Matches].[winner].[winner]"
       ]
      },
      "query": {
       "mdx": "SELECT NON EMPTY Hierarchize(Descendants({[Matches].[winner].[AllMember]}, 1, SELF_AND_BEFORE)) ON ROWS, NON EMPTY {[Measures].[Win by Max Runs]} ON COLUMNS FROM [Matches]",
       "updateMode": "once"
      },
      "serverKey": "default",
      "widgetKey": "pivot-table"
     }
    },
    "tags": []
   },
   "outputs": [],
   "source": [
    "session.visualize(\"Team Winning Analysis\")"
   ]
  }
 ],
 "metadata": {
  "kernelspec": {
   "display_name": "Python 3",
   "language": "python",
   "name": "python3"
  },
  "language_info": {
   "codemirror_mode": {
    "name": "ipython",
    "version": 3
   },
   "file_extension": ".py",
   "mimetype": "text/x-python",
   "name": "python",
   "nbconvert_exporter": "python",
   "pygments_lexer": "ipython3",
   "version": "3.7.6"
  },
  "toc-showmarkdowntxt": true,
  "toc-showtags": true
 },
 "nbformat": 4,
 "nbformat_minor": 4
}
